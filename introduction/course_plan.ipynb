{
 "cells": [
  {
   "cell_type": "markdown",
   "id": "f8ce4da3",
   "metadata": {},
   "source": [
    "# Course Plan | CSE 310 – Applied Programming\n",
    "\n",
    "|Owner: Alejo Alegre Bustos |Fall 25|\n",
    "\n",
    "|Professor: Porter McGary | BYUI\n",
    "\n",
    "## Introduction\n",
    "This is preloan a mobile app that will help you to check your chances to get a loan. Requesting a loan is a big deal, and some times being rejected could drop donw your credit score, so how good could it be to know if you can get it or not before hand? This is for what this app is.\n",
    "\n",
    "The are some requirements to use this app, you will need to provide your anual or monthly income, your profession, your age and your studies, that's it, confidential information is not needed.\n",
    "\n",
    "The final outcome will be a pdf with advises about what you can do to improve your chances to get a loan if you need it\n",
    "\n",
    "\n",
    "| Module | Description |\n",
    "|--------|-------------|\n",
    "|1       | Develop and train model\n",
    "|2       | Interface\n",
    "|3       | Functions\n",
    "|4       | Testing\n",
    "|5       | Deployment\n",
    "\n",
    "\n",
    "# Areas involved\n",
    "\n",
    "|Project                     |Language    |\n",
    "|----------------------------|------------|\n",
    "| Database                   | SQL        |\n",
    "| Machine Learning           | Python     |\n",
    "| Mobile App                 | Python     |\n",
    "\n",
    "\n",
    "# Project Timeline\n",
    "\n",
    "\n",
    "| Module | Expecting Time |\n",
    "|--------|----------------|\n",
    "|Module 1 | 2 weeks\n",
    "|Module 2 | 4 weeks\n",
    "|Module 3 | 2 Weeks\n",
    "|Module 4 | 4 weeks\n",
    "|Module 5 | 2 weeks\n",
    "\n",
    "\n",
    "\n"
   ]
  }
 ],
 "metadata": {
  "language_info": {
   "name": "python"
  }
 },
 "nbformat": 4,
 "nbformat_minor": 5
}
